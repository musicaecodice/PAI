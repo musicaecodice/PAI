{
 "cells": [
  {
   "cell_type": "markdown",
   "id": "8e8a8b13",
   "metadata": {},
   "source": [
    "[Indice](../indice.ipynb)\n",
    "# Neuroni artificiali\n",
    "## Indice\n",
    "* [Ambienti software](#software)"
   ]
  },
  {
   "cell_type": "markdown",
   "id": "0b9807fa",
   "metadata": {},
   "source": [
    "## Ambienti software <a name=\"ambienti\"></a>\n",
    "\n",
    "* [Python](https://www.python.org/)\n",
    "* [TensorFlow](https://www.tensorflow.org/?hl=it)\n",
    "    - Libreria di Python\n",
    "    - Usa [Keras](https://keras.io/) come interfaccia\n",
    "    - Open source\n"
   ]
  }
 ],
 "metadata": {
  "kernelspec": {
   "display_name": "base",
   "language": "python",
   "name": "python3"
  },
  "language_info": {
   "codemirror_mode": {
    "name": "ipython",
    "version": 3
   },
   "file_extension": ".py",
   "mimetype": "text/x-python",
   "name": "python",
   "nbconvert_exporter": "python",
   "pygments_lexer": "ipython3",
   "version": "3.12.4"
  }
 },
 "nbformat": 4,
 "nbformat_minor": 5
}
