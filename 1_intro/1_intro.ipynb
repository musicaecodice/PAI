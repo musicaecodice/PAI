{
 "cells": [
  {
   "cell_type": "markdown",
   "id": "8e8a8b13",
   "metadata": {},
   "source": [
    "[Indice](../indice.ipynb)\n",
    "# Introduzione \n",
    "## Indice\n",
    "* [Terminologia](#intro)\n",
    "* [Artificial Intelligence <small>(AI)</small>](#ai)\n",
    "* [Machine Learning <small>(ML)</small>](#ml)\n",
    "    - [Paradigmi](#mlpal)\n",
    "    - [Algoritmi](#mlalgo)\n",
    "* [Deep Learning <small>(DL)</small>](#deep)"
   ]
  },
  {
   "cell_type": "markdown",
   "id": "98cf253e",
   "metadata": {},
   "source": [
    "## Terminologia <a name=\"intro\"></a>\n",
    "\n",
    "<center><img src=\"img/AIMLDL.png\" width=\"35%\"></center>\n",
    "\n",
    "* [Artificial Intelligence](https://it.wikipedia.org/wiki/Intelligenza_artificiale) (AI) $\\rightarrow$ insieme di tecniche e algoritmi atti a simulare generiche forme di intelligenza artificiale.\n",
    "* [Machine Learning](https://it.wikipedia.org/wiki/Apprendimento_automatico) (ML) $\\rightarrow$ sottocategoria di AI.\n",
    "* [Deep Learning](https://it.wikipedia.org/wiki/Apprendimento_profondo) (DL) $\\rightarrow$ sottocategoria di ML che utilizza algoritmi di Deep Neuron Networks (DNNs)"
   ]
  },
  {
   "cell_type": "markdown",
   "id": "4a3e122b",
   "metadata": {},
   "source": [
    "## Artificial Intelligence (AI) <a name=\"ai\"></a>\n",
    "\n",
    "Definizione di Stuart J. Russell e Peter Norvig: \n",
    "  \n",
    "Agenti intelligenti che ricevono stimoli dall'ambiente e intraprendono azioni che influenzano tale ambiente.\n",
    "- Agenti intelligenti = Agenti razionali.\n",
    "- Razionalità: sequenza ottimale di azioni da compiere per raggiungere i propri obiettivi in base alle proprie convinzioni. \n",
    "\n",
    "Ambito generale che racchiude molte tecniche ed algoritmi come:\n",
    "- [Evolutionary algorithms](https://it.wikipedia.org/wiki/Algoritmo_evolutivo) (algoritmi evolutivi) - si ispirano al principio di evoluzione degli esseri viventi. Un algoritmo evolutivo parte da una soluzione e cerca di farla evolvere con una serie di modifiche casuali fino a giungere ad una soluzione migliore.\n",
    "- [Expert systems](https://it.wikipedia.org/wiki/Sistema_esperto) (sistemi esperti) - usano regole predefinite per prendere decisioni e risolvere i problemi.\n",
    "- [Search](https://it.wikipedia.org/wiki/Algoritmo_A*#:~:text=In%20informatica%2C%20A*%20(pronunciato,un%20test%20di%20goal%20dato)) - algoritmi per risolvere problemi come giochi (algoritmo A*)."
   ]
  },
  {
   "cell_type": "markdown",
   "id": "54fe8e1e",
   "metadata": {},
   "source": [
    "## Machine Learning (ML) <a name=\"ml\"></a>\n",
    "\n",
    "Il computer esegue operazioni senza ricevere istruzioni esplicite ma imparando dai dati.\n",
    "\n",
    "### Esempio\n",
    "Onset detection automatica in un sound file (identificare l'inizio di un evento sonoro).\n",
    "<center><img src=\"img/onset_1.png\" width=\"30%\"></center>\n",
    "\n",
    "#### Soluzione con un algoritmo di sistema esperto: \n",
    "Definiamo una o più regole che permettono al software di identificare gli onsests (ad esempio ogni volta che l'ampiezza supera una o più soglie comincia una nuova nota).\n",
    "\n",
    "<center><img src=\"img/onset_3.png\" width=\"60%\"></center>\n",
    "\n",
    "#### Soluzione con un algoritmo di ML\n",
    "\n",
    "Feature engeneering\n",
    "\n",
    "Estraiamo diversi dati di analisi e li inviamo call'algoritmo che da essi deriverà le regole (Learning process o Training).\n",
    "\n",
    "Importante: scegliere le feature extraction più adatte a risolvere il problema\n",
    "\n",
    "<center><img src=\"img/onset_7.png\" width=\"100%\"></center>\n",
    "  \n",
    "Terminato il processo di training l'algoritmo applicherà le regole che ha dedotto dai dati in ingresso a nuovi soundfiles.\n",
    "\n",
    "<center><img src=\"img/onset_3.png\" width=\"70%\"></center>"
   ]
  },
  {
   "cell_type": "markdown",
   "id": "f77955cf",
   "metadata": {},
   "source": [
    "### Paradigmi <a name=\"mlpar\"></a>\n",
    "\n",
    "I compiti dell'apprendimento automatico sono classificati in tre categorie:\n",
    "\n",
    "#### [Supervised learning](https://it.wikipedia.org/wiki/Apprendimento_supervisionato) (apprendimento supervisionato)\n",
    "* Utilizzato quando esiste un corpus di esempi con le soluzioni.\n",
    "* Vengono forniti al modello degli esempi (input) con i rispettivi output (dati etichettati).   \n",
    "* Obbiettivo $\\rightarrow$ estrarre una regola che associ l'input agli ouput.\n",
    "\n",
    "#### [Unsupervised learning](https://it.wikipedia.org/wiki/Apprendimento_non_supervisionato) (apprendimento non supervisionato)\n",
    "* Utilizzato quando non abbiamo un corpus di data con le soluzioni.\n",
    "* L'algoritmo identifica le differenze e le organizza in clusters uniformi.\n",
    "\n",
    "<center><img src=\"img/onset_6.png\" width=\"63%\"></center>\n",
    "\n",
    "#### [Reinforcement learning](https://it.wikipedia.org/wiki/Apprendimento_per_rinforzo) (apprendimento per rinforzo)\n",
    "* Il training avviene in ambienti dinamici dove l'algoritmo impara dai suoi errori e dai suoi successi.\n",
    "* Un esempio è dato dall'algoritmo [AlphaZero](https://it.wikipedia.org/wiki/AlphaZero)\n",
    "\n",
    "<center><img src=\"img/alphazero.png\" width=\"30%\"></center>\n"
   ]
  },
  {
   "cell_type": "markdown",
   "id": "a1cf57df",
   "metadata": {},
   "source": [
    "### Algoritmi <a name=\"mlalgo\"></a>\n",
    "\n",
    "Le diverse tecniche di ML si basano su diversi algoritmi come: [Logistic regression](https://en.wikipedia.org/wiki/Logistic_regression), [Linear regression](https://en.wikipedia.org/wiki/Linear_regression), [Random forest](https://en.wikipedia.org/wiki/Random_forest), [KNN](https://it.wikipedia.org/wiki/K-nearest_neighbors), etc.\n",
    "\n",
    "Quelli che approfondiremo maggiormente fanno parte delle [Artificial Neural Network](https://it.wikipedia.org/wiki/Rete_neurale_artificiale) (ANN - Reti neurali artificiali) dove singole unità computazionali (neuroni) sono organizzate in diversi layers:\n",
    "* Input layer $\\rightarrow$ data in input.\n",
    "* Hidden layer $\\rightarrow$ processano le informazioni.\n",
    "* Output layer $\\rightarrow$ restituiscono le inferenze del network neurale (regole).\n",
    "<center><img src=\"img/ann.png\" width=\"50%\"></center>\n",
    "\n",
    "Esistono diversi tipi di Neural Network:\n",
    "\n",
    "* Feedforward Neural Networks (FNN)\n",
    "  - analizzare e organizzare automaticamente dati in input.\n",
    "* Recurrent Neural Network (RNN)\n",
    "  - algoritmi predittivi, processamento di linguaggi naturali, speech recognition.\n",
    "* Convolutional Neural Network (CNN)\n",
    "  - processare immagini e audio.\n",
    "* Long Short-Term Memory Networks (LSTM) e Gated Recurrent Units (GRU)\n",
    "  - speech recognition e sentiment analysis.\n",
    "* Autoencoder\n",
    "  - riduzione automatica della dimensione dei file, denoising e modelli generativi. \n",
    "* Generative Adversarial Network (GAN) \n",
    "   - algoritmi generativi."
   ]
  },
  {
   "cell_type": "markdown",
   "id": "cb956c1e",
   "metadata": {},
   "source": [
    "## Deep Learning (DL) <a name=\"deep\"></a>\n",
    "\n",
    "Sottoclasse di ML.\n",
    "\n",
    "Le reti neurali impiegate (Deep) Neural Networks (DNN) hanno più di 1 hidden layer e sono organizzate in diversi strati, dove ogni strato calcola i valori per quello successivo affinché l'informazione venga elaborata in maniera sempre più completa.\n",
    "\n",
    "L'approccio è di tipo end-to-end ovvero viene passata direttamente la row data all'algoritmo (non supervisionati).\n",
    "\n",
    "<center><img src=\"img/onset_5.png\" width=\"80%\"></center>\n",
    "\n",
    "Le principali applicazioni in ambito audio sono:\n",
    "\n",
    "* Speech recognition\n",
    "* Voice-based emotion classification\n",
    "* Noise recognition\n",
    "* Musical genre, intrument recognition \n",
    "* Mood classification (brano allegro, triste, etc)\n",
    "* Music tagging\n",
    "* Music generation\n",
    "\n",
    "Differenze tra ML e DL:\n",
    "\n",
    "| Machine Learning           | Deep Learning              |\n",
    "| -------                    | --------                   |\n",
    "| feature engeneering        | end-to-end                 |\n",
    "| piccoli dataset            | grandi dataset             |\n",
    "| computazionalmente leggere | computazionalmente pesanti |\n",
    "| problemi semplici          | problemi complessi         |\n",
    "\n",
    "Da questa tabella comprendiamo come non sempre il DL sia la scelta migliore."
   ]
  }
 ],
 "metadata": {
  "kernelspec": {
   "display_name": "base",
   "language": "python",
   "name": "python3"
  },
  "language_info": {
   "codemirror_mode": {
    "name": "ipython",
    "version": 3
   },
   "file_extension": ".py",
   "mimetype": "text/x-python",
   "name": "python",
   "nbconvert_exporter": "python",
   "pygments_lexer": "ipython3",
   "version": "3.12.4"
  }
 },
 "nbformat": 4,
 "nbformat_minor": 5
}
